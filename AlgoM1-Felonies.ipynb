{
 "cells": [
  {
   "cell_type": "code",
   "execution_count": 1,
   "metadata": {},
   "outputs": [
    {
     "data": {
      "text/plain": [
       "<bound method NDFrame.head of           Date of Arrest  Age Convicted\n",
       "0    2014-07-16 14:59:18   77       Yes\n",
       "1    2002-12-19 22:17:59   28       Yes\n",
       "2    1994-06-28 09:31:40   21        No\n",
       "3    1985-05-14 09:52:17   45       Yes\n",
       "4    1985-05-25 14:06:28   39       Yes\n",
       "..                   ...  ...       ...\n",
       "995  1992-02-04 14:24:25   72       Yes\n",
       "996  1996-04-29 18:03:23   68       Yes\n",
       "997  1980-07-15 21:59:27   87       Yes\n",
       "998  1999-07-05 17:16:12   27        No\n",
       "999  1996-03-17 18:29:25   57       Yes\n",
       "\n",
       "[1000 rows x 3 columns]>"
      ]
     },
     "execution_count": 1,
     "metadata": {},
     "output_type": "execute_result"
    }
   ],
   "source": [
    "import pandas as pd\n",
    "fp = 'https://bit.ly/felonies-dataset'\n",
    "df = pd.read_csv(fp)\n",
    "df.head"
   ]
  },
  {
   "cell_type": "markdown",
   "metadata": {},
   "source": [
    "# La méthode map de Pandas"
   ]
  },
  {
   "cell_type": "code",
   "execution_count": 4,
   "metadata": {},
   "outputs": [],
   "source": [
    "df['DoA'] = pd.to_datetime(df['Date of Arrest'])"
   ]
  },
  {
   "cell_type": "code",
   "execution_count": 5,
   "metadata": {},
   "outputs": [
    {
     "data": {
      "text/plain": [
       "Date of Arrest            object\n",
       "Age                        int64\n",
       "Convicted                 object\n",
       "DoA               datetime64[ns]\n",
       "dtype: object"
      ]
     },
     "execution_count": 5,
     "metadata": {},
     "output_type": "execute_result"
    }
   ],
   "source": [
    "df.dtypes"
   ]
  },
  {
   "cell_type": "code",
   "execution_count": 6,
   "metadata": {},
   "outputs": [],
   "source": [
    "df.drop('Date of Arrest', axis=\"columns\", inplace=True)"
   ]
  },
  {
   "cell_type": "code",
   "execution_count": 7,
   "metadata": {},
   "outputs": [
    {
     "data": {
      "text/html": [
       "<div>\n",
       "<style scoped>\n",
       "    .dataframe tbody tr th:only-of-type {\n",
       "        vertical-align: middle;\n",
       "    }\n",
       "\n",
       "    .dataframe tbody tr th {\n",
       "        vertical-align: top;\n",
       "    }\n",
       "\n",
       "    .dataframe thead th {\n",
       "        text-align: right;\n",
       "    }\n",
       "</style>\n",
       "<table border=\"1\" class=\"dataframe\">\n",
       "  <thead>\n",
       "    <tr style=\"text-align: right;\">\n",
       "      <th></th>\n",
       "      <th>Age</th>\n",
       "      <th>Convicted</th>\n",
       "      <th>DoA</th>\n",
       "    </tr>\n",
       "  </thead>\n",
       "  <tbody>\n",
       "    <tr>\n",
       "      <th>0</th>\n",
       "      <td>77</td>\n",
       "      <td>Yes</td>\n",
       "      <td>2014-07-16 14:59:18</td>\n",
       "    </tr>\n",
       "    <tr>\n",
       "      <th>1</th>\n",
       "      <td>28</td>\n",
       "      <td>Yes</td>\n",
       "      <td>2002-12-19 22:17:59</td>\n",
       "    </tr>\n",
       "    <tr>\n",
       "      <th>2</th>\n",
       "      <td>21</td>\n",
       "      <td>No</td>\n",
       "      <td>1994-06-28 09:31:40</td>\n",
       "    </tr>\n",
       "    <tr>\n",
       "      <th>3</th>\n",
       "      <td>45</td>\n",
       "      <td>Yes</td>\n",
       "      <td>1985-05-14 09:52:17</td>\n",
       "    </tr>\n",
       "    <tr>\n",
       "      <th>4</th>\n",
       "      <td>39</td>\n",
       "      <td>Yes</td>\n",
       "      <td>1985-05-25 14:06:28</td>\n",
       "    </tr>\n",
       "    <tr>\n",
       "      <th>...</th>\n",
       "      <td>...</td>\n",
       "      <td>...</td>\n",
       "      <td>...</td>\n",
       "    </tr>\n",
       "    <tr>\n",
       "      <th>995</th>\n",
       "      <td>72</td>\n",
       "      <td>Yes</td>\n",
       "      <td>1992-02-04 14:24:25</td>\n",
       "    </tr>\n",
       "    <tr>\n",
       "      <th>996</th>\n",
       "      <td>68</td>\n",
       "      <td>Yes</td>\n",
       "      <td>1996-04-29 18:03:23</td>\n",
       "    </tr>\n",
       "    <tr>\n",
       "      <th>997</th>\n",
       "      <td>87</td>\n",
       "      <td>Yes</td>\n",
       "      <td>1980-07-15 21:59:27</td>\n",
       "    </tr>\n",
       "    <tr>\n",
       "      <th>998</th>\n",
       "      <td>27</td>\n",
       "      <td>No</td>\n",
       "      <td>1999-07-05 17:16:12</td>\n",
       "    </tr>\n",
       "    <tr>\n",
       "      <th>999</th>\n",
       "      <td>57</td>\n",
       "      <td>Yes</td>\n",
       "      <td>1996-03-17 18:29:25</td>\n",
       "    </tr>\n",
       "  </tbody>\n",
       "</table>\n",
       "<p>1000 rows × 3 columns</p>\n",
       "</div>"
      ],
      "text/plain": [
       "     Age Convicted                 DoA\n",
       "0     77       Yes 2014-07-16 14:59:18\n",
       "1     28       Yes 2002-12-19 22:17:59\n",
       "2     21        No 1994-06-28 09:31:40\n",
       "3     45       Yes 1985-05-14 09:52:17\n",
       "4     39       Yes 1985-05-25 14:06:28\n",
       "..   ...       ...                 ...\n",
       "995   72       Yes 1992-02-04 14:24:25\n",
       "996   68       Yes 1996-04-29 18:03:23\n",
       "997   87       Yes 1980-07-15 21:59:27\n",
       "998   27        No 1999-07-05 17:16:12\n",
       "999   57       Yes 1996-03-17 18:29:25\n",
       "\n",
       "[1000 rows x 3 columns]"
      ]
     },
     "execution_count": 7,
     "metadata": {},
     "output_type": "execute_result"
    }
   ],
   "source": [
    "df"
   ]
  },
  {
   "cell_type": "code",
   "execution_count": 8,
   "metadata": {},
   "outputs": [
    {
     "data": {
      "text/plain": [
       "0      2\n",
       "1      3\n",
       "2      1\n",
       "3      1\n",
       "4      5\n",
       "      ..\n",
       "995    1\n",
       "996    0\n",
       "997    1\n",
       "998    0\n",
       "999    6\n",
       "Name: DoA, Length: 1000, dtype: int64"
      ]
     },
     "execution_count": 8,
     "metadata": {},
     "output_type": "execute_result"
    }
   ],
   "source": [
    "df.DoA.dt.dayofweek"
   ]
  },
  {
   "cell_type": "code",
   "execution_count": 11,
   "metadata": {},
   "outputs": [],
   "source": [
    "dow2weektime = {0:'DEBUT', 1:'DEBUT', 2:'MILIEU', 3:'MILIEU', 4:'MILIEU', 5:'WEEKEND', 6:'WEEKEND'}"
   ]
  },
  {
   "cell_type": "code",
   "execution_count": 12,
   "metadata": {},
   "outputs": [
    {
     "data": {
      "text/plain": [
       "0       MILIEU\n",
       "1       MILIEU\n",
       "2        DEBUT\n",
       "3        DEBUT\n",
       "4      WEEKEND\n",
       "        ...   \n",
       "995      DEBUT\n",
       "996      DEBUT\n",
       "997      DEBUT\n",
       "998      DEBUT\n",
       "999    WEEKEND\n",
       "Name: DoA, Length: 1000, dtype: object"
      ]
     },
     "execution_count": 12,
     "metadata": {},
     "output_type": "execute_result"
    }
   ],
   "source": [
    "df.DoA.dt.dayofweek.map(dow2weektime)"
   ]
  },
  {
   "cell_type": "code",
   "execution_count": 13,
   "metadata": {},
   "outputs": [],
   "source": [
    "id2str = ['MONDAY', 'TUESDAY', 'WEDNESDAY', 'THURSDAY', 'FRIDAY', 'SATURDAY', 'SUNDAY']"
   ]
  },
  {
   "cell_type": "code",
   "execution_count": 14,
   "metadata": {},
   "outputs": [
    {
     "data": {
      "text/plain": [
       "0"
      ]
     },
     "execution_count": 14,
     "metadata": {},
     "output_type": "execute_result"
    }
   ],
   "source": [
    "id2str.index('MONDAY')"
   ]
  },
  {
   "cell_type": "code",
   "execution_count": 30,
   "metadata": {},
   "outputs": [],
   "source": [
    "## Dictionnaire\n",
    "str2id = {value:idx for idx, value in enumerate(id2str)}\n",
    "id2str = {idx:value for idx, value in enumerate(id2str)}"
   ]
  },
  {
   "cell_type": "code",
   "execution_count": 31,
   "metadata": {},
   "outputs": [
    {
     "data": {
      "text/plain": [
       "0"
      ]
     },
     "execution_count": 31,
     "metadata": {},
     "output_type": "execute_result"
    }
   ],
   "source": [
    "str2id[id2str[0]]"
   ]
  },
  {
   "cell_type": "code",
   "execution_count": 19,
   "metadata": {},
   "outputs": [
    {
     "data": {
      "text/plain": [
       "0"
      ]
     },
     "execution_count": 19,
     "metadata": {},
     "output_type": "execute_result"
    }
   ],
   "source": [
    "jour = str2id\n",
    "jour['MONDAY']"
   ]
  },
  {
   "cell_type": "code",
   "execution_count": 29,
   "metadata": {},
   "outputs": [],
   "source": [
    "import pickle\n",
    "\n",
    "chemin_disque = 'dictionnaire.pkl'\n",
    "\n",
    "#en écriture\n",
    "with open(chemin_disque, 'wb') as f:\n",
    "    #print(f)\n",
    "    pickle.dump(id2str, f)\n",
    "    \n",
    "#en lecture\n",
    "with open(chemin_disque, 'rb') as f:\n",
    "    objet = pickle.load(f)"
   ]
  },
  {
   "cell_type": "code",
   "execution_count": 32,
   "metadata": {},
   "outputs": [
    {
     "data": {
      "text/plain": [
       "0      WEDNESDAY\n",
       "1       THURSDAY\n",
       "2        TUESDAY\n",
       "3        TUESDAY\n",
       "4       SATURDAY\n",
       "         ...    \n",
       "995      TUESDAY\n",
       "996       MONDAY\n",
       "997      TUESDAY\n",
       "998       MONDAY\n",
       "999       SUNDAY\n",
       "Name: DoA, Length: 1000, dtype: object"
      ]
     },
     "execution_count": 32,
     "metadata": {},
     "output_type": "execute_result"
    }
   ],
   "source": [
    "df['DoA'].dt.dayofweek.map(id2str)"
   ]
  },
  {
   "cell_type": "code",
   "execution_count": 33,
   "metadata": {},
   "outputs": [],
   "source": [
    "periodeSemaine = {\n",
    "    'MONDAY':'DEBUT', \n",
    "    'TUESDAY':'DEBUT', \n",
    "    'WEDNESDAY':'MILIEU',\n",
    "    'THURSDAY':'MILIEU',\n",
    "    'FRIDAY':'MILIEU',\n",
    "    'SATURDAY':'WEEKEND',\n",
    "    'SUNDAY':'WEEKEND'\n",
    "}"
   ]
  },
  {
   "cell_type": "code",
   "execution_count": 34,
   "metadata": {},
   "outputs": [
    {
     "data": {
      "text/plain": [
       "0       MILIEU\n",
       "1       MILIEU\n",
       "2        DEBUT\n",
       "3        DEBUT\n",
       "4      WEEKEND\n",
       "        ...   \n",
       "995      DEBUT\n",
       "996      DEBUT\n",
       "997      DEBUT\n",
       "998      DEBUT\n",
       "999    WEEKEND\n",
       "Name: DoA, Length: 1000, dtype: object"
      ]
     },
     "execution_count": 34,
     "metadata": {},
     "output_type": "execute_result"
    }
   ],
   "source": [
    "df['DoA'].dt.dayofweek.map(id2str).map(periodeSemaine)"
   ]
  },
  {
   "cell_type": "code",
   "execution_count": 35,
   "metadata": {},
   "outputs": [
    {
     "data": {
      "text/plain": [
       "Age                   int64\n",
       "Convicted            object\n",
       "DoA          datetime64[ns]\n",
       "dtype: object"
      ]
     },
     "execution_count": 35,
     "metadata": {},
     "output_type": "execute_result"
    }
   ],
   "source": [
    "df.dtypes"
   ]
  },
  {
   "cell_type": "markdown",
   "metadata": {},
   "source": [
    "# Convertir la colonne en type catégorie"
   ]
  },
  {
   "cell_type": "code",
   "execution_count": 39,
   "metadata": {},
   "outputs": [],
   "source": [
    "df['Periode Semaine'] = df['DoA'].dt.dayofweek.map(id2str).map(periodeSemaine)"
   ]
  },
  {
   "cell_type": "code",
   "execution_count": 44,
   "metadata": {},
   "outputs": [],
   "source": [
    "ordre = ['DEBUT', 'MILIEU', 'WEEKEND']\n",
    "df['Periode Semaine'] = (df['Periode Semaine'].astype('category').\n",
    "                         cat.reorder_categories(ordre).cat.as_ordered())"
   ]
  },
  {
   "cell_type": "code",
   "execution_count": 48,
   "metadata": {},
   "outputs": [
    {
     "data": {
      "text/plain": [
       "0      1\n",
       "1      1\n",
       "2      0\n",
       "3      0\n",
       "4      2\n",
       "      ..\n",
       "995    0\n",
       "996    0\n",
       "997    0\n",
       "998    0\n",
       "999    2\n",
       "Length: 1000, dtype: int8"
      ]
     },
     "execution_count": 48,
     "metadata": {},
     "output_type": "execute_result"
    }
   ],
   "source": [
    "df['Periode Semaine'].cat.codes"
   ]
  },
  {
   "cell_type": "code",
   "execution_count": 49,
   "metadata": {},
   "outputs": [
    {
     "data": {
      "text/plain": [
       "Index(['DEBUT', 'MILIEU', 'WEEKEND'], dtype='object')"
      ]
     },
     "execution_count": 49,
     "metadata": {},
     "output_type": "execute_result"
    }
   ],
   "source": [
    "df['Periode Semaine'].cat.categories"
   ]
  },
  {
   "cell_type": "markdown",
   "metadata": {},
   "source": [
    "# Convertir colonne \"category\" en \"int\" [ORDINAL]"
   ]
  },
  {
   "cell_type": "code",
   "execution_count": 50,
   "metadata": {},
   "outputs": [],
   "source": [
    "df['Periode Semaine'] = df['Periode Semaine'].cat.codes"
   ]
  },
  {
   "cell_type": "markdown",
   "metadata": {},
   "source": [
    "# Gérer les cycles "
   ]
  },
  {
   "cell_type": "code",
   "execution_count": 52,
   "metadata": {},
   "outputs": [
    {
     "data": {
      "text/plain": [
       "<bound method NDFrame.head of           Date of Arrest  Age Convicted\n",
       "0    2014-07-16 14:59:18   77       Yes\n",
       "1    2002-12-19 22:17:59   28       Yes\n",
       "2    1994-06-28 09:31:40   21        No\n",
       "3    1985-05-14 09:52:17   45       Yes\n",
       "4    1985-05-25 14:06:28   39       Yes\n",
       "..                   ...  ...       ...\n",
       "995  1992-02-04 14:24:25   72       Yes\n",
       "996  1996-04-29 18:03:23   68       Yes\n",
       "997  1980-07-15 21:59:27   87       Yes\n",
       "998  1999-07-05 17:16:12   27        No\n",
       "999  1996-03-17 18:29:25   57       Yes\n",
       "\n",
       "[1000 rows x 3 columns]>"
      ]
     },
     "execution_count": 52,
     "metadata": {},
     "output_type": "execute_result"
    }
   ],
   "source": [
    "import pandas as pd\n",
    "fp = 'https://bit.ly/felonies-dataset'\n",
    "df2 = pd.read_csv(fp)\n",
    "df2.head"
   ]
  },
  {
   "cell_type": "code",
   "execution_count": 76,
   "metadata": {},
   "outputs": [
    {
     "data": {
      "text/plain": [
       "DoA          datetime64[ns]\n",
       "Age                   int64\n",
       "Convicted            object\n",
       "dtype: object"
      ]
     },
     "execution_count": 76,
     "metadata": {},
     "output_type": "execute_result"
    }
   ],
   "source": [
    "df2.rename(columns={'Date of Arrest':'DoA'}, inplace=True)\n",
    "df2['DoA'] = pd.to_datetime(df2['DoA'])\n",
    "df2.dtypes"
   ]
  },
  {
   "cell_type": "code",
   "execution_count": 78,
   "metadata": {},
   "outputs": [],
   "source": [
    "df2['DoA'].dt.day.max()\n",
    "df2['DoA'].dt.month.max()\n",
    "colonne_temporaire = df2['DoA'].dt.month * 100 + df['DoA'].dt.day"
   ]
  },
  {
   "cell_type": "code",
   "execution_count": 66,
   "metadata": {},
   "outputs": [],
   "source": [
    "AVANT_JANVIER = 0\n",
    "AVANT_PRINTEMPS = 320\n",
    "AVANT_ETE = 620\n",
    "AVANT_AUTONME = 920 \n",
    "AVANT_HIVER = 1221\n",
    "FIN_ANNEE = 1232\n",
    "\n",
    "bins = [AVANT_JANVIER,\n",
    "       AVANT_PRINTEMPS,\n",
    "       AVANT_ETE,\n",
    "       AVANT_AUTONME,\n",
    "       AVANT_HIVER, \n",
    "       FIN_ANNEE]"
   ]
  },
  {
   "cell_type": "code",
   "execution_count": 80,
   "metadata": {},
   "outputs": [
    {
     "data": {
      "text/plain": [
       "\"\\nsaisons = pd.cut(colonne_temporaire,\\n                  bins = bins,\\n                  labels=['HIVER', 'PRINTEMPS', 'ETE', 'AUTONME', 'HIVER2'])\\nsaisons.head()\\n\\nsaisons = (saisons.astype('category')\\n            .cat.as_ordered()\\n            .cat.reorder_categories(['AUTONME', 'HIVER', 'PRINTEMPS', 'ETE']))\\n            \""
      ]
     },
     "execution_count": 80,
     "metadata": {},
     "output_type": "execute_result"
    }
   ],
   "source": [
    "'''\n",
    "saisons = pd.cut(colonne_temporaire,\n",
    "                  bins = bins,\n",
    "                  labels=['HIVER', 'PRINTEMPS', 'ETE', 'AUTONME', 'HIVER2'])\n",
    "saisons.head()\n",
    "\n",
    "saisons = (saisons.astype('category')\n",
    "            .cat.as_ordered()\n",
    "            .cat.reorder_categories(['AUTONME', 'HIVER', 'PRINTEMPS', 'ETE']))\n",
    "            '''"
   ]
  },
  {
   "cell_type": "code",
   "execution_count": 69,
   "metadata": {},
   "outputs": [],
   "source": [
    "#saisons.str.replace('2', '')\n",
    "#saisons.unique()"
   ]
  },
  {
   "cell_type": "code",
   "execution_count": 73,
   "metadata": {},
   "outputs": [
    {
     "data": {
      "text/plain": [
       "\"\\nordre = ['HIVER', 'PRINTEMPS', 'ETE', 'AUTOMNE']\\n\\nsaisons = pd.cut(colonne_temporaire,\\n                  bins = bins,\\n                  labels=['HIVER', 'PRINTEMPS', 'ETE', 'AUTONME', 'HIVER2'])\\nsaisons.head()\\n\""
      ]
     },
     "execution_count": 73,
     "metadata": {},
     "output_type": "execute_result"
    }
   ],
   "source": [
    "'''\n",
    "ordre = ['HIVER', 'PRINTEMPS', 'ETE', 'AUTOMNE']\n",
    "\n",
    "saisons = pd.cut(colonne_temporaire,\n",
    "                  bins = bins,\n",
    "                  labels=['HIVER', 'PRINTEMPS', 'ETE', 'AUTONME', 'HIVER2'])\n",
    "saisons.head()\n",
    "'''"
   ]
  },
  {
   "cell_type": "markdown",
   "metadata": {},
   "source": [
    "#### Heures"
   ]
  },
  {
   "cell_type": "code",
   "execution_count": 86,
   "metadata": {},
   "outputs": [
    {
     "data": {
      "text/plain": [
       "<bound method NDFrame.head of           Date of Arrest  Age Convicted\n",
       "0    2014-07-16 14:59:18   77       Yes\n",
       "1    2002-12-19 22:17:59   28       Yes\n",
       "2    1994-06-28 09:31:40   21        No\n",
       "3    1985-05-14 09:52:17   45       Yes\n",
       "4    1985-05-25 14:06:28   39       Yes\n",
       "..                   ...  ...       ...\n",
       "995  1992-02-04 14:24:25   72       Yes\n",
       "996  1996-04-29 18:03:23   68       Yes\n",
       "997  1980-07-15 21:59:27   87       Yes\n",
       "998  1999-07-05 17:16:12   27        No\n",
       "999  1996-03-17 18:29:25   57       Yes\n",
       "\n",
       "[1000 rows x 3 columns]>"
      ]
     },
     "execution_count": 86,
     "metadata": {},
     "output_type": "execute_result"
    }
   ],
   "source": [
    "import pandas as pd\n",
    "fp = 'https://bit.ly/felonies-dataset'\n",
    "df3 = pd.read_csv(fp)\n",
    "df3.head"
   ]
  },
  {
   "cell_type": "code",
   "execution_count": 90,
   "metadata": {},
   "outputs": [],
   "source": [
    "df3['Date of Arrest'] = pd.to_datetime(df3['Date of Arrest'])"
   ]
  },
  {
   "cell_type": "code",
   "execution_count": 95,
   "metadata": {},
   "outputs": [],
   "source": [
    "colonne_temporaire = df3['Date of Arrest'].dt.hour * 100 + df3['Date of Arrest'].dt.minute"
   ]
  },
  {
   "cell_type": "code",
   "execution_count": 96,
   "metadata": {},
   "outputs": [],
   "source": [
    "FIN_JOURNEE = 2400\n",
    "AVANT_NUIT = 2212\n",
    "AVANT_AM = 1613     \n",
    "AVANT_MATIN = 325\n",
    "DEBUT_JOURNEE = 0\n",
    "\n",
    "bins = [DEBUT_JOURNEE,\n",
    "        AVANT_MATIN,\n",
    "        AVANT_AM,\n",
    "        AVANT_NUIT,\n",
    "        FIN_JOURNEE]\n",
    "\n",
    "heures = pd.cut(colonne_temporaire,\n",
    "                  bins = bins,\n",
    "                  labels=['NUIT', 'MATIN', 'AM', 'NUIT2'])"
   ]
  },
  {
   "cell_type": "code",
   "execution_count": 97,
   "metadata": {},
   "outputs": [
    {
     "data": {
      "text/plain": [
       "0    MATIN\n",
       "1    NUIT2\n",
       "2    MATIN\n",
       "3    MATIN\n",
       "4    MATIN\n",
       "Name: Date of Arrest, dtype: category\n",
       "Categories (4, object): ['NUIT' < 'MATIN' < 'AM' < 'NUIT2']"
      ]
     },
     "execution_count": 97,
     "metadata": {},
     "output_type": "execute_result"
    }
   ],
   "source": [
    "heures.head()"
   ]
  },
  {
   "cell_type": "code",
   "execution_count": 98,
   "metadata": {},
   "outputs": [
    {
     "data": {
      "text/plain": [
       "0      MATIN\n",
       "1       NUIT\n",
       "2      MATIN\n",
       "3      MATIN\n",
       "4      MATIN\n",
       "       ...  \n",
       "995    MATIN\n",
       "996       AM\n",
       "997       AM\n",
       "998       AM\n",
       "999       AM\n",
       "Name: Date of Arrest, Length: 1000, dtype: object"
      ]
     },
     "execution_count": 98,
     "metadata": {},
     "output_type": "execute_result"
    }
   ],
   "source": [
    "heures.str.replace('2', '')"
   ]
  },
  {
   "cell_type": "code",
   "execution_count": 99,
   "metadata": {},
   "outputs": [],
   "source": [
    "heures = heures.str.replace('2', '')"
   ]
  },
  {
   "cell_type": "code",
   "execution_count": 100,
   "metadata": {},
   "outputs": [],
   "source": [
    "heures = (heures.astype('category').\n",
    "            cat.as_ordered().\n",
    "            cat.reorder_categories(['MATIN', 'AM', 'NUIT']))"
   ]
  },
  {
   "cell_type": "code",
   "execution_count": 101,
   "metadata": {},
   "outputs": [
    {
     "data": {
      "text/plain": [
       "0      MATIN\n",
       "1       NUIT\n",
       "2      MATIN\n",
       "3      MATIN\n",
       "4      MATIN\n",
       "       ...  \n",
       "995    MATIN\n",
       "996       AM\n",
       "997       AM\n",
       "998       AM\n",
       "999       AM\n",
       "Name: Date of Arrest, Length: 1000, dtype: category\n",
       "Categories (3, object): ['MATIN' < 'AM' < 'NUIT']"
      ]
     },
     "execution_count": 101,
     "metadata": {},
     "output_type": "execute_result"
    }
   ],
   "source": [
    "heures"
   ]
  },
  {
   "cell_type": "code",
   "execution_count": 102,
   "metadata": {},
   "outputs": [],
   "source": [
    "df3['Moment de la journee'] = heures"
   ]
  },
  {
   "cell_type": "code",
   "execution_count": 104,
   "metadata": {},
   "outputs": [
    {
     "data": {
      "text/html": [
       "<div>\n",
       "<style scoped>\n",
       "    .dataframe tbody tr th:only-of-type {\n",
       "        vertical-align: middle;\n",
       "    }\n",
       "\n",
       "    .dataframe tbody tr th {\n",
       "        vertical-align: top;\n",
       "    }\n",
       "\n",
       "    .dataframe thead th {\n",
       "        text-align: right;\n",
       "    }\n",
       "</style>\n",
       "<table border=\"1\" class=\"dataframe\">\n",
       "  <thead>\n",
       "    <tr style=\"text-align: right;\">\n",
       "      <th></th>\n",
       "      <th>Date of Arrest</th>\n",
       "      <th>Age</th>\n",
       "      <th>Convicted</th>\n",
       "      <th>Moment de la journee</th>\n",
       "    </tr>\n",
       "  </thead>\n",
       "  <tbody>\n",
       "    <tr>\n",
       "      <th>0</th>\n",
       "      <td>2014-07-16 14:59:18</td>\n",
       "      <td>77</td>\n",
       "      <td>Yes</td>\n",
       "      <td>MATIN</td>\n",
       "    </tr>\n",
       "    <tr>\n",
       "      <th>1</th>\n",
       "      <td>2002-12-19 22:17:59</td>\n",
       "      <td>28</td>\n",
       "      <td>Yes</td>\n",
       "      <td>NUIT</td>\n",
       "    </tr>\n",
       "    <tr>\n",
       "      <th>2</th>\n",
       "      <td>1994-06-28 09:31:40</td>\n",
       "      <td>21</td>\n",
       "      <td>No</td>\n",
       "      <td>MATIN</td>\n",
       "    </tr>\n",
       "    <tr>\n",
       "      <th>3</th>\n",
       "      <td>1985-05-14 09:52:17</td>\n",
       "      <td>45</td>\n",
       "      <td>Yes</td>\n",
       "      <td>MATIN</td>\n",
       "    </tr>\n",
       "    <tr>\n",
       "      <th>4</th>\n",
       "      <td>1985-05-25 14:06:28</td>\n",
       "      <td>39</td>\n",
       "      <td>Yes</td>\n",
       "      <td>MATIN</td>\n",
       "    </tr>\n",
       "  </tbody>\n",
       "</table>\n",
       "</div>"
      ],
      "text/plain": [
       "       Date of Arrest  Age Convicted Moment de la journee\n",
       "0 2014-07-16 14:59:18   77       Yes                MATIN\n",
       "1 2002-12-19 22:17:59   28       Yes                 NUIT\n",
       "2 1994-06-28 09:31:40   21        No                MATIN\n",
       "3 1985-05-14 09:52:17   45       Yes                MATIN\n",
       "4 1985-05-25 14:06:28   39       Yes                MATIN"
      ]
     },
     "execution_count": 104,
     "metadata": {},
     "output_type": "execute_result"
    }
   ],
   "source": [
    "df3.head()"
   ]
  },
  {
   "cell_type": "code",
   "execution_count": 108,
   "metadata": {},
   "outputs": [
    {
     "ename": "ModuleNotFoundError",
     "evalue": "No module named 'sklearn'",
     "output_type": "error",
     "traceback": [
      "\u001b[1;31m---------------------------------------------------------------------------\u001b[0m",
      "\u001b[1;31mModuleNotFoundError\u001b[0m                       Traceback (most recent call last)",
      "\u001b[1;32m<ipython-input-108-b7c74cbf5af0>\u001b[0m in \u001b[0;36m<module>\u001b[1;34m\u001b[0m\n\u001b[1;32m----> 1\u001b[1;33m \u001b[1;32mimport\u001b[0m \u001b[0msklearn\u001b[0m\u001b[1;33m\u001b[0m\u001b[1;33m\u001b[0m\u001b[0m\n\u001b[0m",
      "\u001b[1;31mModuleNotFoundError\u001b[0m: No module named 'sklearn'"
     ]
    }
   ],
   "source": [
    "import sklearn"
   ]
  },
  {
   "cell_type": "code",
   "execution_count": null,
   "metadata": {},
   "outputs": [],
   "source": []
  }
 ],
 "metadata": {
  "kernelspec": {
   "display_name": "Python 3",
   "language": "python",
   "name": "python3"
  },
  "language_info": {
   "codemirror_mode": {
    "name": "ipython",
    "version": 3
   },
   "file_extension": ".py",
   "mimetype": "text/x-python",
   "name": "python",
   "nbconvert_exporter": "python",
   "pygments_lexer": "ipython3",
   "version": "3.8.5"
  }
 },
 "nbformat": 4,
 "nbformat_minor": 4
}
