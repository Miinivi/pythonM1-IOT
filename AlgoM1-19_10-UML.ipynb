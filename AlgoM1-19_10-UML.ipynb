{
 "cells": [
  {
   "cell_type": "code",
   "execution_count": 2,
   "metadata": {},
   "outputs": [],
   "source": [
    "import datetime\n",
    "\n",
    "class Personne : \n",
    "    \"\"\"\n",
    "    Implémentation de la classe Personne\n",
    "    \"\"\"\n",
    "    # Constructeur\n",
    "    def __init__(self, nom, prenom, dateNaissance):\n",
    "        self.nom = nom\n",
    "        self.prenom = prenom\n",
    "        self.dateNaissance = dateNaissance\n",
    "    # Méthode pour afficher notre personne\n",
    "    def afficher(self):\n",
    "        print(self.prenom, ' ', self.nom)\n",
    "    # Méthode de calcul de l'âge\n",
    "    def calculerAge(self):\n",
    "        now = datetime.datetime.now()\n",
    "        return now.year - self.dateNaissance.year"
   ]
  },
  {
   "cell_type": "code",
   "execution_count": 2,
   "metadata": {},
   "outputs": [],
   "source": [
    "class Voiture(object):\n",
    "    \n",
    "    def __init__(self):\n",
    "        self._roues = 4\n",
    "        \n",
    "    def _get_roues(self):\n",
    "        print(\"Récupération du nombre de roues\")\n",
    "        return self._roues\n",
    "    \n",
    "    def _set_roues(self, v):\n",
    "        print(\"Changement du nombre de roues\")\n",
    "        self._roues = v\n",
    "    \n",
    "    def allumer(self):\n",
    "        Voiture.allumer(self)\n",
    "        print(\"La voiture démarre\")\n",
    "    \n",
    "    roues = property(_get_roues, _set_roues)"
   ]
  },
  {
   "cell_type": "code",
   "execution_count": null,
   "metadata": {},
   "outputs": [],
   "source": [
    "class VoitureSport(Voiture):\n",
    "    \n",
    "    def __init__(self):\n",
    "        self.nom = \"Ferrari\"\n",
    "    \n",
    "    def allumer(self):\n",
    "        Voiture.allumer(self)\n",
    "        print(\"La voiture de sport démarre\")\n",
    "\n",
    "ma_voiture_sport = VoitureSport()\n",
    "ma_voiture_sport.allumer()"
   ]
  },
  {
   "cell_type": "code",
   "execution_count": 9,
   "metadata": {},
   "outputs": [],
   "source": [
    "class Vecteur :\n",
    "    def __init__(self, x, y):\n",
    "        self.x = x\n",
    "        self.y = y\n",
    "    # Surcharge de l'opérateur\n",
    "    def __add__(self, other):\n",
    "        return Vecteur(self.x + other.x,\n",
    "                       self.y + other.y)\n",
    "    # Afficher\n",
    "    def __repr__(self):\n",
    "        return \"Vecteur()\".format(self.x, self.y)"
   ]
  },
  {
   "cell_type": "code",
   "execution_count": 6,
   "metadata": {},
   "outputs": [],
   "source": [
    "v1 = Vecteur(1,2)\n",
    "v2 = Vecteur(3,4)"
   ]
  },
  {
   "cell_type": "code",
   "execution_count": 8,
   "metadata": {},
   "outputs": [
    {
     "data": {
      "text/plain": [
       "<__main__.Vecteur at 0x27d16fa4400>"
      ]
     },
     "execution_count": 8,
     "metadata": {},
     "output_type": "execute_result"
    }
   ],
   "source": [
    "v1 + v2"
   ]
  },
  {
   "cell_type": "code",
   "execution_count": 59,
   "metadata": {},
   "outputs": [],
   "source": [
    "class CompteBancaire :\n",
    "    # Constructeur\n",
    "    def __init__(self, nom, solde):\n",
    "        self.nom = 'Dupont'\n",
    "        self.solde = 1000\n",
    "    # Dépôt somme\n",
    "    def depot(self, somme):\n",
    "        self.solde += somme\n",
    "    # Retirer somme\n",
    "    def retrait(self, somme):\n",
    "        self.solde -= somme\n",
    "    # repr\n",
    "    def __repr__(self):\n",
    "        return \"CompteBancaire()\".format(self.nom, self.solde)\n",
    "    # str\n",
    "    def __str__(self):\n",
    "        return \"Le solde du compte bancaire de \" + self.nom + \" est de \" + str(self.solde) + \" euros.\"\n",
    "    # Afficher nom + solde\n",
    "    def affiche(self):\n",
    "        print(cb)\n",
    "        #pass\n",
    "        #print(\"Le solde du compte bancaire de \", self.nom, \" est de \", self.solde, \" euros.\")\n",
    "        #return \"CompteBancaire()\".format(self.nom, self.solde)"
   ]
  },
  {
   "cell_type": "code",
   "execution_count": 66,
   "metadata": {},
   "outputs": [
    {
     "name": "stdout",
     "output_type": "stream",
     "text": [
      "Le solde du compte bancaire de Dupont est de 1150 euros.\n"
     ]
    }
   ],
   "source": [
    "cb = CompteBancaire(\"test\", 0)\n",
    "cb.depot(350)\n",
    "cb.retrait(200)\n",
    "cb.affiche()"
   ]
  },
  {
   "cell_type": "code",
   "execution_count": null,
   "metadata": {},
   "outputs": [],
   "source": [
    "class Point :\n",
    "    def __init__(self, x, y):\n",
    "        self.x = x\n",
    "        self.y = y\n",
    "    def"
   ]
  },
  {
   "cell_type": "code",
   "execution_count": null,
   "metadata": {},
   "outputs": [],
   "source": []
  },
  {
   "cell_type": "code",
   "execution_count": null,
   "metadata": {},
   "outputs": [],
   "source": []
  },
  {
   "cell_type": "code",
   "execution_count": null,
   "metadata": {},
   "outputs": [],
   "source": []
  }
 ],
 "metadata": {
  "kernelspec": {
   "display_name": "Python 3",
   "language": "python",
   "name": "python3"
  },
  "language_info": {
   "codemirror_mode": {
    "name": "ipython",
    "version": 3
   },
   "file_extension": ".py",
   "mimetype": "text/x-python",
   "name": "python",
   "nbconvert_exporter": "python",
   "pygments_lexer": "ipython3",
   "version": "3.8.5"
  }
 },
 "nbformat": 4,
 "nbformat_minor": 4
}
